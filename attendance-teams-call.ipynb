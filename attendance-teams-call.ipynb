{
 "cells": [
  {
   "cell_type": "markdown",
   "metadata": {},
   "source": [
    "# Attendance analyse from MS Teams calls"
   ]
  },
  {
   "cell_type": "code",
   "execution_count": 8,
   "metadata": {},
   "outputs": [],
   "source": [
    "import pandas as pd\n",
    "import numpy as np\n",
    "import seaborn as sns\n",
    "import matplotlib.pyplot as plt\n",
    "import re"
   ]
  },
  {
   "cell_type": "code",
   "execution_count": 9,
   "metadata": {},
   "outputs": [],
   "source": [
    "df = pd.read_csv('data/meetingAttendanceReport(Ignitions)2022-06-07.csv', header=7, sep='\\t', \n",
    "                engine='python', encoding='utf-16')"
   ]
  },
  {
   "cell_type": "code",
   "execution_count": 10,
   "metadata": {},
   "outputs": [
    {
     "data": {
      "text/html": [
       "<div>\n",
       "<style scoped>\n",
       "    .dataframe tbody tr th:only-of-type {\n",
       "        vertical-align: middle;\n",
       "    }\n",
       "\n",
       "    .dataframe tbody tr th {\n",
       "        vertical-align: top;\n",
       "    }\n",
       "\n",
       "    .dataframe thead th {\n",
       "        text-align: right;\n",
       "    }\n",
       "</style>\n",
       "<table border=\"1\" class=\"dataframe\">\n",
       "  <thead>\n",
       "    <tr style=\"text-align: right;\">\n",
       "      <th></th>\n",
       "      <th>Nome Completo</th>\n",
       "      <th>Horário de Entrada</th>\n",
       "      <th>Horário de Saída</th>\n",
       "      <th>Duração</th>\n",
       "      <th>Email</th>\n",
       "      <th>Função</th>\n",
       "      <th>ID do participante (UPN)</th>\n",
       "    </tr>\n",
       "  </thead>\n",
       "  <tbody>\n",
       "    <tr>\n",
       "      <th>0</th>\n",
       "      <td>Soraya Quaresma Santos</td>\n",
       "      <td>07/06/2022 11:00</td>\n",
       "      <td>07/06/2022 11:41</td>\n",
       "      <td>41m 23s</td>\n",
       "      <td>soraya.quaresma@dtidigital.com.br</td>\n",
       "      <td>Apresentador</td>\n",
       "      <td>soraya.quaresma@dtidigital.com.br</td>\n",
       "    </tr>\n",
       "    <tr>\n",
       "      <th>1</th>\n",
       "      <td>Letícia Alves Vial</td>\n",
       "      <td>07/06/2022 11:00</td>\n",
       "      <td>07/06/2022 11:11</td>\n",
       "      <td>11m 24s</td>\n",
       "      <td>leticia.vial@dtidigital.com.br</td>\n",
       "      <td>Apresentador</td>\n",
       "      <td>leticia.vial@dtidigital.com.br</td>\n",
       "    </tr>\n",
       "    <tr>\n",
       "      <th>2</th>\n",
       "      <td>Priscila Polastri Albuquerque</td>\n",
       "      <td>07/06/2022 11:00</td>\n",
       "      <td>07/06/2022 11:20</td>\n",
       "      <td>20m 4s</td>\n",
       "      <td>priscila.albuquerque@dtidigital.com.br</td>\n",
       "      <td>Apresentador</td>\n",
       "      <td>priscila.albuquerque@dtidigital.com.br</td>\n",
       "    </tr>\n",
       "    <tr>\n",
       "      <th>3</th>\n",
       "      <td>Rafaella Jéssica Calmon Chaves</td>\n",
       "      <td>07/06/2022 11:00</td>\n",
       "      <td>07/06/2022 11:55</td>\n",
       "      <td>55m 23s</td>\n",
       "      <td>rafaella.andrade@dtidigital.com.br</td>\n",
       "      <td>Apresentador</td>\n",
       "      <td>rafaella.andrade@dtidigital.com.br</td>\n",
       "    </tr>\n",
       "    <tr>\n",
       "      <th>4</th>\n",
       "      <td>Marcos Antônio Messias</td>\n",
       "      <td>07/06/2022 11:00</td>\n",
       "      <td>07/06/2022 11:00</td>\n",
       "      <td>18s</td>\n",
       "      <td>marcos.messias@dtidigital.com.br</td>\n",
       "      <td>Apresentador</td>\n",
       "      <td>marcos.messias@dtidigital.com.br</td>\n",
       "    </tr>\n",
       "  </tbody>\n",
       "</table>\n",
       "</div>"
      ],
      "text/plain": [
       "                    Nome Completo Horário de Entrada  Horário de Saída  \\\n",
       "0          Soraya Quaresma Santos   07/06/2022 11:00  07/06/2022 11:41   \n",
       "1              Letícia Alves Vial   07/06/2022 11:00  07/06/2022 11:11   \n",
       "2   Priscila Polastri Albuquerque   07/06/2022 11:00  07/06/2022 11:20   \n",
       "3  Rafaella Jéssica Calmon Chaves   07/06/2022 11:00  07/06/2022 11:55   \n",
       "4          Marcos Antônio Messias   07/06/2022 11:00  07/06/2022 11:00   \n",
       "\n",
       "   Duração                                   Email        Função  \\\n",
       "0  41m 23s       soraya.quaresma@dtidigital.com.br  Apresentador   \n",
       "1  11m 24s          leticia.vial@dtidigital.com.br  Apresentador   \n",
       "2   20m 4s  priscila.albuquerque@dtidigital.com.br  Apresentador   \n",
       "3  55m 23s      rafaella.andrade@dtidigital.com.br  Apresentador   \n",
       "4      18s        marcos.messias@dtidigital.com.br  Apresentador   \n",
       "\n",
       "                 ID do participante (UPN)  \n",
       "0       soraya.quaresma@dtidigital.com.br  \n",
       "1          leticia.vial@dtidigital.com.br  \n",
       "2  priscila.albuquerque@dtidigital.com.br  \n",
       "3      rafaella.andrade@dtidigital.com.br  \n",
       "4        marcos.messias@dtidigital.com.br  "
      ]
     },
     "execution_count": 10,
     "metadata": {},
     "output_type": "execute_result"
    }
   ],
   "source": [
    "df.head()"
   ]
  },
  {
   "cell_type": "code",
   "execution_count": 11,
   "metadata": {},
   "outputs": [],
   "source": [
    "df.columns = [re.sub(' ','_',col) for col in df.columns]"
   ]
  },
  {
   "cell_type": "code",
   "execution_count": 12,
   "metadata": {},
   "outputs": [
    {
     "data": {
      "text/plain": [
       "Nome_Completo               object\n",
       "Horário_de_Entrada          object\n",
       "Horário_de_Saída            object\n",
       "Duração                     object\n",
       "Email                       object\n",
       "Função                      object\n",
       "ID_do_participante_(UPN)    object\n",
       "dtype: object"
      ]
     },
     "execution_count": 12,
     "metadata": {},
     "output_type": "execute_result"
    }
   ],
   "source": [
    "df.dtypes"
   ]
  },
  {
   "cell_type": "code",
   "execution_count": 13,
   "metadata": {},
   "outputs": [],
   "source": [
    "df['Duração'] = df['Duração'].apply(lambda t: pd.to_timedelta(t).total_seconds()/60.0)"
   ]
  },
  {
   "cell_type": "code",
   "execution_count": 14,
   "metadata": {},
   "outputs": [
    {
     "data": {
      "text/plain": [
       "Index(['Nome_Completo', 'Horário_de_Entrada', 'Horário_de_Saída', 'Duração',\n",
       "       'Email', 'Função', 'ID_do_participante_(UPN)'],\n",
       "      dtype='object')"
      ]
     },
     "execution_count": 14,
     "metadata": {},
     "output_type": "execute_result"
    }
   ],
   "source": [
    "df.columns"
   ]
  },
  {
   "cell_type": "code",
   "execution_count": 15,
   "metadata": {},
   "outputs": [],
   "source": [
    "df_agg = df.groupby('Nome_Completo').agg({'Horário_de_Entrada':'min',\n",
    "                                          'Horário_de_Saída':'max',\n",
    "                                          'Duração':'sum',\n",
    "                                          'Email':'max', \n",
    "                                          'Função':'max', \n",
    "                                          'ID_do_participante_(UPN)':'max'\n",
    "                                            })"
   ]
  },
  {
   "cell_type": "code",
   "execution_count": 16,
   "metadata": {},
   "outputs": [
    {
     "data": {
      "text/html": [
       "<div>\n",
       "<style scoped>\n",
       "    .dataframe tbody tr th:only-of-type {\n",
       "        vertical-align: middle;\n",
       "    }\n",
       "\n",
       "    .dataframe tbody tr th {\n",
       "        vertical-align: top;\n",
       "    }\n",
       "\n",
       "    .dataframe thead th {\n",
       "        text-align: right;\n",
       "    }\n",
       "</style>\n",
       "<table border=\"1\" class=\"dataframe\">\n",
       "  <thead>\n",
       "    <tr style=\"text-align: right;\">\n",
       "      <th></th>\n",
       "      <th>Horário_de_Entrada</th>\n",
       "      <th>Horário_de_Saída</th>\n",
       "      <th>Duração</th>\n",
       "      <th>Email</th>\n",
       "      <th>Função</th>\n",
       "      <th>ID_do_participante_(UPN)</th>\n",
       "    </tr>\n",
       "    <tr>\n",
       "      <th>Nome_Completo</th>\n",
       "      <th></th>\n",
       "      <th></th>\n",
       "      <th></th>\n",
       "      <th></th>\n",
       "      <th></th>\n",
       "      <th></th>\n",
       "    </tr>\n",
       "  </thead>\n",
       "  <tbody>\n",
       "    <tr>\n",
       "      <th>Ariel Thamara Alberto Alves</th>\n",
       "      <td>07/06/2022 11:10</td>\n",
       "      <td>07/06/2022 11:39</td>\n",
       "      <td>29.733333</td>\n",
       "      <td>ariel.thamara@dtidigital.com.br</td>\n",
       "      <td>Apresentador</td>\n",
       "      <td>ariel.thamara@dtidigital.com.br</td>\n",
       "    </tr>\n",
       "    <tr>\n",
       "      <th>Bruno Feliciano</th>\n",
       "      <td>07/06/2022 11:08</td>\n",
       "      <td>07/06/2022 11:38</td>\n",
       "      <td>30.216667</td>\n",
       "      <td>bruno.feliciano@dtidigital.com.br</td>\n",
       "      <td>Apresentador</td>\n",
       "      <td>bruno.feliciano@dtidigital.com.br</td>\n",
       "    </tr>\n",
       "    <tr>\n",
       "      <th>Cleverson Montanario</th>\n",
       "      <td>07/06/2022 11:06</td>\n",
       "      <td>07/06/2022 11:46</td>\n",
       "      <td>17.050000</td>\n",
       "      <td>cleverson.montanario@dtidigital.com.br</td>\n",
       "      <td>Apresentador</td>\n",
       "      <td>cleverson.montanario@dtidigital.com.br</td>\n",
       "    </tr>\n",
       "    <tr>\n",
       "      <th>Cézar Willian Ferreira</th>\n",
       "      <td>07/06/2022 11:05</td>\n",
       "      <td>07/06/2022 11:08</td>\n",
       "      <td>3.200000</td>\n",
       "      <td>cezar.ferreira@dtidigital.com.br</td>\n",
       "      <td>Apresentador</td>\n",
       "      <td>cezar.ferreira@dtidigital.com.br</td>\n",
       "    </tr>\n",
       "    <tr>\n",
       "      <th>Daniel Fernandes Pinho</th>\n",
       "      <td>07/06/2022 11:01</td>\n",
       "      <td>07/06/2022 11:46</td>\n",
       "      <td>44.683333</td>\n",
       "      <td>daniel.pinho@dtidigital.com.br</td>\n",
       "      <td>Apresentador</td>\n",
       "      <td>daniel.pinho@dtidigital.com.br</td>\n",
       "    </tr>\n",
       "  </tbody>\n",
       "</table>\n",
       "</div>"
      ],
      "text/plain": [
       "                            Horário_de_Entrada  Horário_de_Saída    Duração  \\\n",
       "Nome_Completo                                                                 \n",
       "Ariel Thamara Alberto Alves   07/06/2022 11:10  07/06/2022 11:39  29.733333   \n",
       "Bruno Feliciano               07/06/2022 11:08  07/06/2022 11:38  30.216667   \n",
       "Cleverson Montanario          07/06/2022 11:06  07/06/2022 11:46  17.050000   \n",
       "Cézar Willian Ferreira        07/06/2022 11:05  07/06/2022 11:08   3.200000   \n",
       "Daniel Fernandes Pinho        07/06/2022 11:01  07/06/2022 11:46  44.683333   \n",
       "\n",
       "                                                              Email  \\\n",
       "Nome_Completo                                                         \n",
       "Ariel Thamara Alberto Alves         ariel.thamara@dtidigital.com.br   \n",
       "Bruno Feliciano                   bruno.feliciano@dtidigital.com.br   \n",
       "Cleverson Montanario         cleverson.montanario@dtidigital.com.br   \n",
       "Cézar Willian Ferreira             cezar.ferreira@dtidigital.com.br   \n",
       "Daniel Fernandes Pinho               daniel.pinho@dtidigital.com.br   \n",
       "\n",
       "                                   Função  \\\n",
       "Nome_Completo                               \n",
       "Ariel Thamara Alberto Alves  Apresentador   \n",
       "Bruno Feliciano              Apresentador   \n",
       "Cleverson Montanario         Apresentador   \n",
       "Cézar Willian Ferreira       Apresentador   \n",
       "Daniel Fernandes Pinho       Apresentador   \n",
       "\n",
       "                                           ID_do_participante_(UPN)  \n",
       "Nome_Completo                                                        \n",
       "Ariel Thamara Alberto Alves         ariel.thamara@dtidigital.com.br  \n",
       "Bruno Feliciano                   bruno.feliciano@dtidigital.com.br  \n",
       "Cleverson Montanario         cleverson.montanario@dtidigital.com.br  \n",
       "Cézar Willian Ferreira             cezar.ferreira@dtidigital.com.br  \n",
       "Daniel Fernandes Pinho               daniel.pinho@dtidigital.com.br  "
      ]
     },
     "execution_count": 16,
     "metadata": {},
     "output_type": "execute_result"
    }
   ],
   "source": [
    "df_agg.head()"
   ]
  },
  {
   "cell_type": "code",
   "execution_count": 17,
   "metadata": {},
   "outputs": [
    {
     "data": {
      "text/plain": [
       "5"
      ]
     },
     "execution_count": 17,
     "metadata": {},
     "output_type": "execute_result"
    }
   ],
   "source": [
    "sum(df_agg[\"Horário_de_Saída\"]<'07/06/2022 11:15')"
   ]
  },
  {
   "cell_type": "code",
   "execution_count": 18,
   "metadata": {},
   "outputs": [
    {
     "name": "stdout",
     "output_type": "stream",
     "text": [
      "presentes: 40\n",
      "Permanência média: 31 min\n",
      "% menos que 5 min: 17.5%\n",
      "% entre 5 e 30 min: 25.0%\n",
      "% mais que 30 min: 57.5%\n",
      "permaneceram depois do fim da apresentação (40 min): 40.0%\n"
     ]
    },
    {
     "data": {
      "image/png": "[encoded data removed]",
      "text/plain": [
       "<Figure size 360x360 with 1 Axes>"
      ]
     },
     "metadata": {
      "needs_background": "light"
     },
     "output_type": "display_data"
    }
   ],
   "source": [
    "sns.displot(df_agg['Duração'], bins=10)\n",
    "plt.vlines(x=40, ymin=0, ymax=8, color='r')\n",
    "plt.tight_layout()\n",
    "sns.despine()\n",
    "# sns.set_style(\"dark\")\n",
    "plt.title('Tempo de permanência no ignition de dados')\n",
    "plt.xlabel('Duração [minutos]')\n",
    "\n",
    "print(f'Presentes: {df_agg.shape[0]}')\n",
    "print(f'Permanência média: {round(np.mean(df_agg[\"Duração\"]))} min')\n",
    "print(f'% menos que 5 min: {round(sum(df_agg[\"Duração\"]<5)/df_agg.shape[0]*100,1)}%')\n",
    "print(f'% entre 5 e 30 min: {round(sum((df_agg[\"Duração\"]>=5)&(df_agg[\"Duração\"]<30))/df_agg.shape[0]*100,2)}%')\n",
    "print(f'% mais que 30 min: {round(sum(df_agg[\"Duração\"]>=30)/df_agg.shape[0]*100,1)}%')\n",
    "print(f'permaneceram depois do fim da apresentação (40 min): {round(sum(df_agg[\"Duração\"]>=40)/df_agg.shape[0]*100,1)}%')"
   ]
  },
  {
   "cell_type": "code",
   "execution_count": null,
   "metadata": {},
   "outputs": [],
   "source": []
  }
 ],
 "metadata": {
  "interpreter": {
   "hash": "f2bc11cf051f42188d2fdd9939f04c28d51e5d654c0e4012ab9251d8d355c8db"
  },
  "kernelspec": {
   "display_name": "Python 3.9.7 ('base')",
   "language": "python",
   "name": "python3"
  },
  "language_info": {
   "codemirror_mode": {
    "name": "ipython",
    "version": 3
   },
   "file_extension": ".py",
   "mimetype": "text/x-python",
   "name": "python",
   "nbconvert_exporter": "python",
   "pygments_lexer": "ipython3",
   "version": "3.9.7"
  },
  "orig_nbformat": 4
 },
 "nbformat": 4,
 "nbformat_minor": 2
}
